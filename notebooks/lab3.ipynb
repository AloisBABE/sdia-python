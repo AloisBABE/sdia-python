{
 "cells": [
  {
   "cell_type": "markdown",
   "metadata": {},
   "source": [
    "# Practical session 3 - Practice with numpy\n",
    "\n",
    "Course: [SDIA-Python](https://github.com/guilgautier/sdia-python)\n",
    "\n",
    "Date: 10/06/2021\n",
    "\n",
    "Instructor: [Guillaume Gautier](https://guilgautier.github.io/)\n",
    "\n",
    "Students (pair):\n",
    "- [Student 1]([link](https://github.com/username1))\n",
    "- [Student 2]([link](https://github.com/username2))"
   ]
  },
  {
   "cell_type": "code",
   "execution_count": null,
   "metadata": {},
   "outputs": [],
   "source": [
    "%load_ext autoreload\n",
    "%autoreload 2\n",
    "\n",
    "import numpy as np\n",
    "from sdia_python.lab2.utils import get_random_number_generator"
   ]
  },
  {
   "cell_type": "code",
   "execution_count": null,
   "metadata": {},
   "outputs": [],
   "source": [
    "my_array = np.array([0])\n",
    "print(type(my_array))\n",
    "dir(np.ndarray)"
   ]
  },
  {
   "cell_type": "markdown",
   "metadata": {},
   "source": [
    "Propose at leat 2 ways to create an integer vector of size 100 made of 1s"
   ]
  },
  {
   "cell_type": "code",
   "execution_count": null,
   "metadata": {},
   "outputs": [],
   "source": [
    "V1 = np.ones(100)\n",
    "V2 = np.zeros(100)+1\n",
    "V3 = np.array([1]*100)\n",
    "\n",
    "print(np.array_equal(V1,V2))\n",
    "print(np.array_equal(V1,V3))"
   ]
  },
  {
   "cell_type": "markdown",
   "metadata": {},
   "source": [
    "Create a vector with values ranging from 10 to 49"
   ]
  },
  {
   "cell_type": "code",
   "execution_count": null,
   "metadata": {},
   "outputs": [],
   "source": [
    "V1 = np.arange(10,50,1)\n",
    "print(V1)"
   ]
  },
  {
   "cell_type": "markdown",
   "metadata": {},
   "source": [
    "Propose a way to construct the vector $(0.0, 0.2, 0.4, 0.6, 0.8)$"
   ]
  },
  {
   "cell_type": "code",
   "execution_count": null,
   "metadata": {},
   "outputs": [],
   "source": [
    "V1 = np.arange(0,1,0.2)\n",
    "print(V1)"
   ]
  },
  {
   "cell_type": "markdown",
   "metadata": {},
   "source": [
    "Convert a float array into an integer array in place"
   ]
  },
  {
   "cell_type": "code",
   "execution_count": null,
   "metadata": {},
   "outputs": [],
   "source": [
    "V1 = np.arange(0,30,np.pi)\n",
    "print(V1)\n",
    "V2 = V1.astype(int)\n",
    "print(V2)"
   ]
  },
  {
   "cell_type": "markdown",
   "metadata": {},
   "source": [
    "Given a boolean array\n",
    "\n",
    "- return the indices where \n",
    "- negate the array inplace? "
   ]
  },
  {
   "cell_type": "code",
   "execution_count": null,
   "metadata": {},
   "outputs": [],
   "source": [
    "V = np.random.choice([False, True], size=(10))\n",
    "print(\"V      : \",V)\n",
    "Ind = np.where(V==True)\n",
    "print(\"Indices of True values in V : \",Ind)\n",
    "\n",
    "print(\"not(V) : \",np.logical_not(V))\n",
    "print(\"not(V) : \",np.invert(V))"
   ]
  },
  {
   "cell_type": "markdown",
   "metadata": {},
   "source": [
    "Given 2 vectors $u, v$, propose at least\n",
    "\n",
    "- 2 ways to compute the inner product $v^{\\top} u$ (here they must have the same size)\n",
    "- 2 ways to compute the outer product matrix $u v^{\\top}$\n",
    "- 2 ways to compute the outer sum matrix \"$M = u + v^{\\top}$\", where $M_{ij} = u_i + v_j$"
   ]
  },
  {
   "cell_type": "code",
   "execution_count": null,
   "metadata": {},
   "outputs": [],
   "source": [
    "U = np.random.randint(0,10,5)\n",
    "V = np.random.randint(0,10,5)\n",
    "\n",
    "inner_prod1 = (U).dot(V)\n",
    "inner_prod2 = np.sum(U*V)\n",
    "print(\"inner product : \", inner_prod1, inner_prod2)\n",
    "\n",
    "outer_prod1 = U[:, None].dot(V[None, :])\n",
    "outer_prod2 = np.outer(U,V)\n",
    "print(\"outer product : \\n\", outer_prod1, \"\\n\", outer_prod2)\n",
    "\n",
    "sum1 = U + np.flip(V)\n",
    "sum2 = U + V[::-1]\n",
    "print(\"sum : \", sum1, sum2)\n"
   ]
  },
  {
   "cell_type": "markdown",
   "metadata": {},
   "source": [
    "Given the following matrix\n",
    "\n",
    "$$\n",
    "M = \n",
    "\\begin{pmatrix}\n",
    "    0 & 1 & 2 \\\\\n",
    "    3 & 4 & 5 \\\\\n",
    "    6 & 7 & 8 \\\\\n",
    "\\end{pmatrix}\n",
    "$$\n",
    "\n",
    "- Create $M$ using as a list of lists and access the element in the middle\n",
    "- Propose at least 2 ways to create $M$ using numpy and access the element in the middle\n",
    "- Swap its first and second row\n",
    "- Propose at least 3 ways to extract the submatrix $\\begin{pmatrix}4 & 5 \\\\7 & 8 \\\\\\end{pmatrix}$\n",
    "- Propose at least 2 ways to extract the diagonal of $M$\n",
    "- Propose at least 2 ways to compute $M^3$\n",
    "- Compute $v^{\\top} M$, resp. $M N$ for a vector, resp. a matrix of your choice. \n",
    "- Propose 2 ways to \"vectorize\" the matrix, i.e., transform it into\n",
    "  - $(0, 1, 2, 3, 4, 5, 6, 7, 8)$\n",
    "  - $(0, 3, 6, 1, 4, 7, 2, 5, 8)$\n",
    "- Consider $v = (1, 2 , 3)$, compute the\n",
    "  - row-wise multiplication of $M$ by $v$ ($M_{i\\cdot}$ is multiplied by $v_i$)\n",
    "  - column-wise multiplication of $M$ by $v$ ($M_{\\cdot j}$ is multiplied by $v_i$)"
   ]
  },
  {
   "cell_type": "code",
   "execution_count": null,
   "metadata": {},
   "outputs": [],
   "source": [
    "M = [[3*i+j for j in range(3)] for i in range(3)]\n",
    "print(M)\n",
    "print(\"middle element : \", M[1][1], \"\\n\")"
   ]
  },
  {
   "cell_type": "code",
   "execution_count": null,
   "metadata": {},
   "outputs": [],
   "source": [
    "M1 = np.reshape(np.arange(0,9,1),(3,3))\n",
    "M2 = np.fromfunction(lambda i, j: 3*i+j, (3, 3),dtype=int)\n",
    "print(\"initialize matrix :\\n\", M1, \"\\n\", M2, \"\\n\")\n",
    "\n",
    "print(\"acess element :\\n\", M1[1,1],M[1][1], \"\\n\")"
   ]
  },
  {
   "cell_type": "code",
   "execution_count": null,
   "metadata": {},
   "outputs": [],
   "source": [
    "subM1 = M1[1:,1:]\n",
    "subM2 = M1[[1,2]][:,[1,2]]\n",
    "subM3 = M1\n",
    "print(\"submatrix :\\n\",subM1,\"\\n\", subM2, \"\\n\", subM3, \"\\n\")"
   ]
  },
  {
   "cell_type": "code",
   "execution_count": null,
   "metadata": {},
   "outputs": [],
   "source": [
    "diag1 = np.diag(M1)\n",
    "diag2 = np.diagonal(M1)\n",
    "print(\"diagonal :\\n\",diag1,\"\\n\", diag2, \"\\n\")"
   ]
  },
  {
   "cell_type": "code",
   "execution_count": null,
   "metadata": {},
   "outputs": [],
   "source": [
    "M3pow1 = np.linalg.matrix_power(M1, 3)\n",
    "M3pow2 = M1.dot(M1.dot(M1))\n",
    "print(\"M^3 :\\n\", M3pow1,\"\\n\", M3pow2, \"\\n\")"
   ]
  },
  {
   "cell_type": "code",
   "execution_count": null,
   "metadata": {},
   "outputs": [],
   "source": [
    "v = np.array([1,2,3])\n",
    "N = np.fromfunction(lambda i, j: (i+1)*(j+1), (3, 3),dtype=int)\n",
    "print(\"v=\",v,\"\\n\",\"N=\",N)\n",
    "\n",
    "print(\"vM=\",v.dot(M))\n",
    "print(\"MN=\",M1.dot(N))"
   ]
  },
  {
   "cell_type": "code",
   "execution_count": null,
   "metadata": {},
   "outputs": [],
   "source": [
    "M_vec1 = np.reshape(M1,9)\n",
    "print(M_vec1)\n",
    "\n",
    "M_vec2 = np.reshape(M1,9,order=\"F\")\n",
    "print(M_vec2)\n"
   ]
  },
  {
   "cell_type": "code",
   "execution_count": null,
   "metadata": {},
   "outputs": [],
   "source": [
    "v = np.array([1,2,3])\n",
    "print(M*v)\n",
    "print(M*np.reshape(v,(3,1)))"
   ]
  },
  {
   "cell_type": "markdown",
   "metadata": {},
   "source": [
    "Write a function `is_symmetric` that checks whether a given n x n matrix is symmetric, and provide an example"
   ]
  },
  {
   "cell_type": "code",
   "execution_count": null,
   "metadata": {},
   "outputs": [],
   "source": [
    "from sdia_python.lab3.functions import is_symetric"
   ]
  },
  {
   "cell_type": "code",
   "execution_count": null,
   "metadata": {},
   "outputs": [],
   "source": [
    "S = np.fromfunction(lambda i, j: (i+1)*(j+1), (3, 3),dtype=int)\n",
    "NS = np.fromfunction(lambda i, j: (i+1)*(j+2), (3, 3),dtype=int)\n",
    "\n",
    "print(is_symetric(S))\n",
    "print(is_symetric(NS))"
   ]
  },
  {
   "cell_type": "markdown",
   "metadata": {},
   "source": [
    "## Random\n",
    "\n",
    "REQUIREMENT: USE THE FUNCTION `get_random_number_generator` as previously used in Lab 2."
   ]
  },
  {
   "cell_type": "code",
   "execution_count": null,
   "metadata": {},
   "outputs": [],
   "source": [
    "from sdia_python.lab2.utils import get_random_number_generator\n",
    "rng = get_random_number_generator(None)"
   ]
  },
  {
   "cell_type": "markdown",
   "metadata": {},
   "source": [
    "Consider the Bernoulli(0.4) distribution\n",
    "\n",
    "- Propose at least 2 ways to generate n=1000 samples from it\n",
    "- Compute the empirical mean and variance"
   ]
  },
  {
   "cell_type": "code",
   "execution_count": null,
   "metadata": {},
   "outputs": [],
   "source": [
    "N = 1000\n",
    "p = 0.4\n",
    "A = rng.binomial(1,p,(N))\n",
    "result = np.sum(A)\n",
    "result2 = rng.binomial(N,p)\n",
    "B = rng.uniform(size=(N)) < p\n",
    "result3 = np.sum(B)\n",
    "\n",
    "mean = result/N\n",
    "variance = (result*(1-mean)**2 + (N-result)*(mean)**2)/N\n",
    "print(\"result: \",result,\"success / mean: \",mean,\" / variance: \", variance )\n",
    "\n",
    "mean2 = result2/N\n",
    "variance2 = (result2*(1-mean2)**2 + (N-result2)*(mean2)**2)/N\n",
    "print(\"result2: \",result2,\"success / mean2: \",mean2,\" / variance2: \", variance2 )\n",
    "\n",
    "mean3 = result3/N\n",
    "variance3 = (result3*(1-mean3)**2 + (N-result3)*(mean3)**2)/N\n",
    "print(\"result3: \",result3,\"success3 / mean3: \",mean3,\" / variance3: \", variance2 )"
   ]
  },
  {
   "cell_type": "markdown",
   "metadata": {},
   "source": [
    "Consider a random matrix of size $50 \\times 100$, filled with i.i.d. standard Gaussian variables, compute\n",
    "\n",
    "- the absolute value of each entry\n",
    "- the sum of each row\n",
    "- the sum of each colomn \n",
    "- the (euclidean) norm of each row\n",
    "- the (euclidean) norm of each column"
   ]
  },
  {
   "cell_type": "code",
   "execution_count": null,
   "metadata": {},
   "outputs": [],
   "source": [
    "loc = 0\n",
    "scale = 1\n",
    "Gaussian = rng.normal(loc,scale,(50,100))\n",
    "\n",
    "absoluteG = np.abs(Gaussian)\n",
    "rowSumG = np.sum(Gaussian,1)\n",
    "colSumG = np.sum(Gaussian,0)\n",
    "normRowG = np.linalg.norm(Gaussian,axis=1)\n",
    "normColG = np.linalg.norm(Gaussian,axis=0)"
   ]
  },
  {
   "cell_type": "markdown",
   "metadata": {},
   "source": []
  }
 ],
 "metadata": {
  "interpreter": {
   "hash": "42655d77310123ba99cb819e209bec9faae6d30d4b961625c9758438fb4b9010"
  },
  "kernelspec": {
   "display_name": "Python 3.8.11 64-bit ('sdia-python': conda)",
   "name": "python3"
  },
  "language_info": {
   "codemirror_mode": {
    "name": "ipython",
    "version": 3
   },
   "file_extension": ".py",
   "mimetype": "text/x-python",
   "name": "python",
   "nbconvert_exporter": "python",
   "pygments_lexer": "ipython3",
   "version": "3.8.11"
  },
  "toc": {
   "base_numbering": 1,
   "nav_menu": {},
   "number_sections": false,
   "sideBar": true,
   "skip_h1_title": true,
   "title_cell": "Lecture Outline",
   "title_sidebar": "Contents",
   "toc_cell": true,
   "toc_position": {},
   "toc_section_display": true,
   "toc_window_display": true
  }
 },
 "nbformat": 4,
 "nbformat_minor": 4
}

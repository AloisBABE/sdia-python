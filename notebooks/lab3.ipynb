{
 "cells": [
  {
   "cell_type": "markdown",
   "metadata": {},
   "source": [
    "# Practical session 3 - Practice with numpy\n",
    "\n",
    "Course: [SDIA-Python](https://github.com/guilgautier/sdia-python)\n",
    "\n",
    "Date: 10/06/2021\n",
    "\n",
    "Instructor: [Guillaume Gautier](https://guilgautier.github.io/)\n",
    "\n",
    "Students (pair):\n",
    "- [Student 1]([link](https://github.com/username1))\n",
    "- [Student 2]([link](https://github.com/username2))"
   ]
  },
  {
   "cell_type": "code",
   "execution_count": 14,
   "metadata": {},
   "outputs": [],
   "source": [
    "%load_ext autoreload\n",
    "%autoreload 2\n",
    "\n",
    "import numpy as np\n",
    "from sdia_python.lab2.utils import get_random_number_generator"
   ]
  },
  {
   "cell_type": "code",
   "execution_count": 2,
   "metadata": {},
   "outputs": [
    {
     "name": "stdout",
     "output_type": "stream",
     "text": [
      "<class 'numpy.ndarray'>\n"
     ]
    },
    {
     "data": {
      "text/plain": [
       "['T',\n",
       " '__abs__',\n",
       " '__add__',\n",
       " '__and__',\n",
       " '__array__',\n",
       " '__array_finalize__',\n",
       " '__array_function__',\n",
       " '__array_interface__',\n",
       " '__array_prepare__',\n",
       " '__array_priority__',\n",
       " '__array_struct__',\n",
       " '__array_ufunc__',\n",
       " '__array_wrap__',\n",
       " '__bool__',\n",
       " '__class__',\n",
       " '__complex__',\n",
       " '__contains__',\n",
       " '__copy__',\n",
       " '__deepcopy__',\n",
       " '__delattr__',\n",
       " '__delitem__',\n",
       " '__dir__',\n",
       " '__divmod__',\n",
       " '__doc__',\n",
       " '__eq__',\n",
       " '__float__',\n",
       " '__floordiv__',\n",
       " '__format__',\n",
       " '__ge__',\n",
       " '__getattribute__',\n",
       " '__getitem__',\n",
       " '__gt__',\n",
       " '__hash__',\n",
       " '__iadd__',\n",
       " '__iand__',\n",
       " '__ifloordiv__',\n",
       " '__ilshift__',\n",
       " '__imatmul__',\n",
       " '__imod__',\n",
       " '__imul__',\n",
       " '__index__',\n",
       " '__init__',\n",
       " '__init_subclass__',\n",
       " '__int__',\n",
       " '__invert__',\n",
       " '__ior__',\n",
       " '__ipow__',\n",
       " '__irshift__',\n",
       " '__isub__',\n",
       " '__iter__',\n",
       " '__itruediv__',\n",
       " '__ixor__',\n",
       " '__le__',\n",
       " '__len__',\n",
       " '__lshift__',\n",
       " '__lt__',\n",
       " '__matmul__',\n",
       " '__mod__',\n",
       " '__mul__',\n",
       " '__ne__',\n",
       " '__neg__',\n",
       " '__new__',\n",
       " '__or__',\n",
       " '__pos__',\n",
       " '__pow__',\n",
       " '__radd__',\n",
       " '__rand__',\n",
       " '__rdivmod__',\n",
       " '__reduce__',\n",
       " '__reduce_ex__',\n",
       " '__repr__',\n",
       " '__rfloordiv__',\n",
       " '__rlshift__',\n",
       " '__rmatmul__',\n",
       " '__rmod__',\n",
       " '__rmul__',\n",
       " '__ror__',\n",
       " '__rpow__',\n",
       " '__rrshift__',\n",
       " '__rshift__',\n",
       " '__rsub__',\n",
       " '__rtruediv__',\n",
       " '__rxor__',\n",
       " '__setattr__',\n",
       " '__setitem__',\n",
       " '__setstate__',\n",
       " '__sizeof__',\n",
       " '__str__',\n",
       " '__sub__',\n",
       " '__subclasshook__',\n",
       " '__truediv__',\n",
       " '__xor__',\n",
       " 'all',\n",
       " 'any',\n",
       " 'argmax',\n",
       " 'argmin',\n",
       " 'argpartition',\n",
       " 'argsort',\n",
       " 'astype',\n",
       " 'base',\n",
       " 'byteswap',\n",
       " 'choose',\n",
       " 'clip',\n",
       " 'compress',\n",
       " 'conj',\n",
       " 'conjugate',\n",
       " 'copy',\n",
       " 'ctypes',\n",
       " 'cumprod',\n",
       " 'cumsum',\n",
       " 'data',\n",
       " 'diagonal',\n",
       " 'dot',\n",
       " 'dtype',\n",
       " 'dump',\n",
       " 'dumps',\n",
       " 'fill',\n",
       " 'flags',\n",
       " 'flat',\n",
       " 'flatten',\n",
       " 'getfield',\n",
       " 'imag',\n",
       " 'item',\n",
       " 'itemset',\n",
       " 'itemsize',\n",
       " 'max',\n",
       " 'mean',\n",
       " 'min',\n",
       " 'nbytes',\n",
       " 'ndim',\n",
       " 'newbyteorder',\n",
       " 'nonzero',\n",
       " 'partition',\n",
       " 'prod',\n",
       " 'ptp',\n",
       " 'put',\n",
       " 'ravel',\n",
       " 'real',\n",
       " 'repeat',\n",
       " 'reshape',\n",
       " 'resize',\n",
       " 'round',\n",
       " 'searchsorted',\n",
       " 'setfield',\n",
       " 'setflags',\n",
       " 'shape',\n",
       " 'size',\n",
       " 'sort',\n",
       " 'squeeze',\n",
       " 'std',\n",
       " 'strides',\n",
       " 'sum',\n",
       " 'swapaxes',\n",
       " 'take',\n",
       " 'tobytes',\n",
       " 'tofile',\n",
       " 'tolist',\n",
       " 'tostring',\n",
       " 'trace',\n",
       " 'transpose',\n",
       " 'var',\n",
       " 'view']"
      ]
     },
     "execution_count": 2,
     "metadata": {},
     "output_type": "execute_result"
    }
   ],
   "source": [
    "my_array = np.array([0])\n",
    "print(type(my_array))\n",
    "dir(np.ndarray)"
   ]
  },
  {
   "cell_type": "markdown",
   "metadata": {},
   "source": [
    "Propose at leat 2 ways to create an integer vector of size 100 made of 1s"
   ]
  },
  {
   "cell_type": "code",
   "execution_count": 6,
   "metadata": {},
   "outputs": [
    {
     "name": "stdout",
     "output_type": "stream",
     "text": [
      "True\n",
      "True\n"
     ]
    }
   ],
   "source": [
    "V1 = np.ones(100)\n",
    "V2 = np.zeros(100)+1\n",
    "V3 = np.array([1]*100)\n",
    "\n",
    "print(np.array_equal(V1,V2))\n",
    "print(np.array_equal(V1,V3))"
   ]
  },
  {
   "cell_type": "markdown",
   "metadata": {},
   "source": [
    "Create a vector with values ranging from 10 to 49"
   ]
  },
  {
   "cell_type": "code",
   "execution_count": 3,
   "metadata": {},
   "outputs": [
    {
     "name": "stdout",
     "output_type": "stream",
     "text": [
      "[10 11 12 13 14 15 16 17 18 19 20 21 22 23 24 25 26 27 28 29 30 31 32 33\n",
      " 34 35 36 37 38 39 40 41 42 43 44 45 46 47 48 49]\n"
     ]
    }
   ],
   "source": [
    "V1 = np.arange(10,50,1)\n",
    "print(V1)"
   ]
  },
  {
   "cell_type": "markdown",
   "metadata": {},
   "source": [
    "Propose a way to construct the vector $(0.0, 0.2, 0.4, 0.6, 0.8)$"
   ]
  },
  {
   "cell_type": "code",
   "execution_count": 4,
   "metadata": {},
   "outputs": [
    {
     "name": "stdout",
     "output_type": "stream",
     "text": [
      "[0.  0.2 0.4 0.6 0.8]\n"
     ]
    }
   ],
   "source": [
    "V1 = np.arange(0,1,0.2)\n",
    "print(V1)"
   ]
  },
  {
   "cell_type": "markdown",
   "metadata": {},
   "source": [
    "Convert a float array into an integer array in place"
   ]
  },
  {
   "cell_type": "code",
   "execution_count": 16,
   "metadata": {},
   "outputs": [
    {
     "name": "stdout",
     "output_type": "stream",
     "text": [
      "[ 0.          3.14159265  6.28318531  9.42477796 12.56637061 15.70796327\n",
      " 18.84955592 21.99114858 25.13274123 28.27433388]\n",
      "[ 0  3  6  9 12 15 18 21 25 28]\n"
     ]
    }
   ],
   "source": [
    "V1 = np.arange(0,30,np.pi)\n",
    "print(V1)\n",
    "V2 = V1.astype(int)\n",
    "print(V2)"
   ]
  },
  {
   "cell_type": "markdown",
   "metadata": {},
   "source": [
    "Given a boolean array\n",
    "\n",
    "- return the indices where \n",
    "- negate the array inplace? "
   ]
  },
  {
   "cell_type": "code",
   "execution_count": 38,
   "metadata": {},
   "outputs": [
    {
     "name": "stdout",
     "output_type": "stream",
     "text": [
      "V      :  [False False False  True False  True  True  True  True  True]\n",
      "Indices of True values in V :  (array([3, 5, 6, 7, 8, 9], dtype=int64),)\n",
      "not(V) :  [ True  True  True False  True False False False False False]\n",
      "not(V) :  [ True  True  True False  True False False False False False]\n"
     ]
    }
   ],
   "source": [
    "V = np.random.choice([False, True], size=(10))\n",
    "print(\"V      : \",V)\n",
    "Ind = np.where(V==True)\n",
    "print(\"Indices of True values in V : \",Ind)\n",
    "\n",
    "print(\"not(V) : \",np.logical_not(V))\n",
    "print(\"not(V) : \",np.invert(V))"
   ]
  },
  {
   "cell_type": "markdown",
   "metadata": {},
   "source": [
    "Given 2 vectors $u, v$, propose at least\n",
    "\n",
    "- 2 ways to compute the inner product $v^{\\top} u$ (here they must have the same size)\n",
    "- 2 ways to compute the outer product matrix $u v^{\\top}$\n",
    "- 2 ways to compute the outer sum matrix \"$M = u + v^{\\top}$\", where $M_{ij} = u_i + v_j$"
   ]
  },
  {
   "cell_type": "code",
   "execution_count": 53,
   "metadata": {},
   "outputs": [
    {
     "name": "stdout",
     "output_type": "stream",
     "text": [
      "inner product :  23 23\n",
      "outer product : \n",
      " [[ 0  5  5  5 25]\n",
      " [ 0  2  2  2 10]\n",
      " [ 0  2  2  2 10]\n",
      " [ 0  4  4  4 20]\n",
      " [ 0  3  3  3 15]] \n",
      " [[ 0  5  5  5 25]\n",
      " [ 0  2  2  2 10]\n",
      " [ 0  2  2  2 10]\n",
      " [ 0  4  4  4 20]\n",
      " [ 0  3  3  3 15]]\n",
      "sum :  [10  3  3  5  3] [10  3  3  5  3]\n"
     ]
    }
   ],
   "source": [
    "U = np.random.randint(0,10,5)\n",
    "V = np.random.randint(0,10,5)\n",
    "\n",
    "inner_prod1 = (U).dot(V)\n",
    "inner_prod2 = np.sum(U*V)\n",
    "print(\"inner product : \", inner_prod1, inner_prod2)\n",
    "\n",
    "outer_prod1 = U[:, None].dot(V[None, :])\n",
    "outer_prod2 = np.outer(U,V)\n",
    "print(\"outer product : \\n\", outer_prod1, \"\\n\", outer_prod2)\n",
    "\n",
    "sum1 = U + np.flip(V)\n",
    "sum2 = U + V[::-1]\n",
    "print(\"sum : \", sum1, sum2)\n"
   ]
  },
  {
   "cell_type": "markdown",
   "metadata": {},
   "source": [
    "Given the following matrix\n",
    "\n",
    "$$\n",
    "M = \n",
    "\\begin{pmatrix}\n",
    "    0 & 1 & 2 \\\\\n",
    "    3 & 4 & 5 \\\\\n",
    "    6 & 7 & 8 \\\\\n",
    "\\end{pmatrix}\n",
    "$$\n",
    "\n",
    "- Create $M$ using as a list of lists and access the element in the middle\n",
    "- Propose at least 2 ways to create $M$ using numpy and access the element in the middle\n",
    "- Swap its first and second row\n",
    "- Propose at least 3 ways to extract the submatrix $\\begin{pmatrix}4 & 5 \\\\7 & 8 \\\\\\end{pmatrix}$\n",
    "- Propose at least 2 ways to extract the diagonal of $M$\n",
    "- Propose at least 2 ways to compute $M^3$\n",
    "- Compute $v^{\\top} M$, resp. $M N$ for a vector, resp. a matrix of your choice. \n",
    "- Propose 2 ways to \"vectorize\" the matrix, i.e., transform it into\n",
    "  - $(0, 1, 2, 3, 4, 5, 6, 7, 8)$\n",
    "  - $(0, 3, 6, 1, 4, 7, 2, 5, 8)$\n",
    "- Consider $v = (1, 2 , 3)$, compute the\n",
    "  - row-wise multiplication of $M$ by $v$ ($M_{i\\cdot}$ is multiplied by $v_i$)\n",
    "  - column-wise multiplication of $M$ by $v$ ($M_{\\cdot j}$ is multiplied by $v_i$)"
   ]
  },
  {
   "cell_type": "code",
   "execution_count": 1,
   "metadata": {},
   "outputs": [
    {
     "name": "stdout",
     "output_type": "stream",
     "text": [
      "[[0, 1, 2], [3, 4, 5], [6, 7, 8]]\n",
      "middle element :  4 \n",
      "\n"
     ]
    }
   ],
   "source": [
    "M = [[3*i+j for j in range(3)] for i in range(3)]\n",
    "print(M)\n",
    "print(\"middle element : \", M[1][1], \"\\n\")"
   ]
  },
  {
   "cell_type": "code",
   "execution_count": 12,
   "metadata": {},
   "outputs": [
    {
     "name": "stdout",
     "output_type": "stream",
     "text": [
      "initialize matrix :\n",
      " [[0 1 2]\n",
      " [3 4 5]\n",
      " [6 7 8]] \n",
      " [[0 1 2]\n",
      " [3 4 5]\n",
      " [6 7 8]] \n",
      "\n",
      "acess element :\n",
      " 4 4 \n",
      "\n"
     ]
    }
   ],
   "source": [
    "M1 = np.reshape(np.arange(0,9,1),(3,3))\n",
    "M2 = np.fromfunction(lambda i, j: 3*i+j, (3, 3),dtype=int)\n",
    "print(\"initialize matrix :\\n\", M1, \"\\n\", M2, \"\\n\")\n",
    "\n",
    "print(\"acess element :\\n\", M1[1,1],M[1][1], \"\\n\")"
   ]
  },
  {
   "cell_type": "code",
   "execution_count": null,
   "metadata": {},
   "outputs": [],
   "source": [
    "subM1 = M1[1:,1:]\n",
    "subM2 = M1[[1,2]][:,[1,2]]\n",
    "subM3 = M1\n",
    "print(\"submatrix :\\n\",subM1,\"\\n\", subM2, \"\\n\", subM3, \"\\n\")"
   ]
  },
  {
   "cell_type": "code",
   "execution_count": null,
   "metadata": {},
   "outputs": [],
   "source": [
    "diag1 = np.diag(M1)\n",
    "diag2 = np.diagonal(M1)\n",
    "print(\"diagonal :\\n\",diag1,\"\\n\", diag2, \"\\n\")"
   ]
  },
  {
   "cell_type": "code",
   "execution_count": null,
   "metadata": {},
   "outputs": [],
   "source": [
    "M3pow1 = np.linalg.matrix_power(M1, 3)\n",
    "M3pow2 = M1.dot(M1.dot(M1))\n",
    "print(\"M^3 :\\n\", M3pow1,\"\\n\", M3pow2, \"\\n\")"
   ]
  },
  {
   "cell_type": "code",
   "execution_count": 13,
   "metadata": {},
   "outputs": [
    {
     "name": "stdout",
     "output_type": "stream",
     "text": [
      "v= [1 2 3] \n",
      " N= [[1 2 3]\n",
      " [2 4 6]\n",
      " [3 6 9]]\n",
      "vM= [24 30 36]\n",
      "MN= [[  8  16  24]\n",
      " [ 26  52  78]\n",
      " [ 44  88 132]]\n"
     ]
    }
   ],
   "source": [
    "v = np.array([1,2,3])\n",
    "N = np.fromfunction(lambda i, j: (i+1)*(j+1), (3, 3),dtype=int)\n",
    "print(\"v=\",v,\"\\n\",\"N=\",N)\n",
    "\n",
    "print(\"vM=\",v.dot(M))\n",
    "print(\"MN=\",M1.dot(N))"
   ]
  },
  {
   "cell_type": "code",
   "execution_count": 18,
   "metadata": {},
   "outputs": [
    {
     "name": "stdout",
     "output_type": "stream",
     "text": [
      "[0 1 2 3 4 5 6 7 8]\n",
      "[0 3 6 1 4 7 2 5 8]\n"
     ]
    }
   ],
   "source": [
    "M_vec1 = np.reshape(M1,9)\n",
    "print(M_vec1)\n",
    "\n",
    "M_vec2 = np.reshape(M1,9,order=\"F\")\n",
    "print(M_vec2)\n"
   ]
  },
  {
   "cell_type": "code",
   "execution_count": 23,
   "metadata": {},
   "outputs": [
    {
     "name": "stdout",
     "output_type": "stream",
     "text": [
      "[[ 0  2  6]\n",
      " [ 3  8 15]\n",
      " [ 6 14 24]]\n",
      "[[ 0  1  2]\n",
      " [ 6  8 10]\n",
      " [18 21 24]]\n"
     ]
    }
   ],
   "source": [
    "v = np.array([1,2,3])\n",
    "print(M*v)\n",
    "print(M*np.reshape(v,(3,1)))"
   ]
  },
  {
   "cell_type": "markdown",
   "metadata": {},
   "source": [
    "Write a function `is_symmetric` that checks whether a given n x n matrix is symmetric, and provide an example"
   ]
  },
  {
   "cell_type": "code",
   "execution_count": 6,
   "metadata": {},
   "outputs": [],
   "source": [
    "from sdia_python.lab3.functions import is_symetric"
   ]
  },
  {
   "cell_type": "code",
   "execution_count": 12,
   "metadata": {},
   "outputs": [
    {
     "name": "stdout",
     "output_type": "stream",
     "text": [
      "True\n",
      "False\n"
     ]
    }
   ],
   "source": [
    "S = np.fromfunction(lambda i, j: (i+1)*(j+1), (3, 3),dtype=int)\n",
    "NS = np.fromfunction(lambda i, j: (i+1)*(j+2), (3, 3),dtype=int)\n",
    "\n",
    "print(is_symetric(S))\n",
    "print(is_symetric(NS))"
   ]
  },
  {
   "cell_type": "markdown",
   "metadata": {},
   "source": [
    "## Random\n",
    "\n",
    "REQUIREMENT: USE THE FUNCTION `get_random_number_generator` as previously used in Lab 2."
   ]
  },
  {
   "cell_type": "code",
   "execution_count": 24,
   "metadata": {},
   "outputs": [],
   "source": [
    "from sdia_python.lab2.utils import get_random_number_generator\n",
    "rng = get_random_number_generator(None)"
   ]
  },
  {
   "cell_type": "markdown",
   "metadata": {},
   "source": [
    "Consider the Bernoulli(0.4) distribution\n",
    "\n",
    "- Propose at least 2 ways to generate n=1000 samples from it\n",
    "- Compute the empirical mean and variance"
   ]
  },
  {
   "cell_type": "code",
   "execution_count": 25,
   "metadata": {},
   "outputs": [
    {
     "name": "stdout",
     "output_type": "stream",
     "text": [
      "result:  419 success / mean:  0.419  / variance:  0.24343899999999996\n",
      "result2:  391 success / mean2:  0.391  / variance2:  0.238119\n",
      "result3:  392 success3 / mean3:  0.392  / variance3:  0.238119\n"
     ]
    }
   ],
   "source": [
    "N = 1000\n",
    "p = 0.4\n",
    "A = rng.binomial(1,p,(N))\n",
    "result = np.sum(A)\n",
    "result2 = rng.binomial(N,p)\n",
    "B = rng.uniform(size=(N)) < p\n",
    "result3 = np.sum(B)\n",
    "\n",
    "mean = result/N\n",
    "variance = (result*(1-mean)**2 + (N-result)*(mean)**2)/N\n",
    "print(\"result: \",result,\"success / mean: \",mean,\" / variance: \", variance )\n",
    "\n",
    "mean2 = result2/N\n",
    "variance2 = (result2*(1-mean2)**2 + (N-result2)*(mean2)**2)/N\n",
    "print(\"result2: \",result2,\"success / mean2: \",mean2,\" / variance2: \", variance2 )\n",
    "\n",
    "mean3 = result3/N\n",
    "variance3 = (result3*(1-mean3)**2 + (N-result3)*(mean3)**2)/N\n",
    "print(\"result3: \",result3,\"success3 / mean3: \",mean3,\" / variance3: \", variance2 )"
   ]
  },
  {
   "cell_type": "markdown",
   "metadata": {},
   "source": [
    "Consider a random matrix of size $50 \\times 100$, filled with i.i.d. standard Gaussian variables, compute\n",
    "\n",
    "- the absolute value of each entry\n",
    "- the sum of each row\n",
    "- the sum of each colomn \n",
    "- the (euclidean) norm of each row\n",
    "- the (euclidean) norm of each column"
   ]
  },
  {
   "cell_type": "code",
   "execution_count": 27,
   "metadata": {},
   "outputs": [],
   "source": [
    "loc = 0\n",
    "scale = 1\n",
    "Gaussian = rng.normal(loc,scale,(50,100))\n",
    "\n",
    "absoluteG = np.abs(Gaussian)\n",
    "rowSumG = np.sum(Gaussian,1)\n",
    "colSumG = np.sum(Gaussian,0)\n",
    "normRowG = np.linalg.norm(Gaussian,axis=1)\n",
    "normColG = np.linalg.norm(Gaussian,axis=0)"
   ]
  },
  {
   "cell_type": "markdown",
   "metadata": {},
   "source": []
  }
 ],
 "metadata": {
  "interpreter": {
   "hash": "87c2fe27d2244286e772486fdfabf41b27633495fb7c6f6fad6062e8dd43692a"
  },
  "kernelspec": {
   "display_name": "Python 3.8.11 64-bit ('sdia-python': conda)",
   "name": "python3"
  },
  "language_info": {
   "codemirror_mode": {
    "name": "ipython",
    "version": 3
   },
   "file_extension": ".py",
   "mimetype": "text/x-python",
   "name": "python",
   "nbconvert_exporter": "python",
   "pygments_lexer": "ipython3",
   "version": "3.8.11"
  },
  "toc": {
   "base_numbering": 1,
   "nav_menu": {},
   "number_sections": false,
   "sideBar": true,
   "skip_h1_title": true,
   "title_cell": "Lecture Outline",
   "title_sidebar": "Contents",
   "toc_cell": true,
   "toc_position": {},
   "toc_section_display": true,
   "toc_window_display": true
  }
 },
 "nbformat": 4,
 "nbformat_minor": 4
}
